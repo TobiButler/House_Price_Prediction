{
 "cells": [
  {
   "cell_type": "markdown",
   "id": "ec2ec020",
   "metadata": {},
   "source": [
    "# House Price Prediction: Measuring the Effect of Data Preprocessing."
   ]
  },
  {
   "cell_type": "markdown",
   "id": "250573fe",
   "metadata": {},
   "source": [
    "In this notebook, we will use a popular competition dataset from Kaggle to highlight the effectiveness of preprocessing data before using it to build a machine learning model. The dataset includes 79 exploratory variables that describe different aspects of houses and a single target variable, the price of the house. Check out the competition here: https://www.kaggle.com/competitions/house-prices-advanced-regression-techniques.\n",
    "\n",
    "Let's start by importing the dataset."
   ]
  },
  {
   "cell_type": "code",
   "execution_count": null,
   "id": "d43450ec",
   "metadata": {},
   "outputs": [],
   "source": []
  },
  {
   "cell_type": "markdown",
   "id": "a8000100",
   "metadata": {},
   "source": []
  },
  {
   "cell_type": "code",
   "execution_count": null,
   "id": "a613a6b6",
   "metadata": {},
   "outputs": [],
   "source": []
  }
 ],
 "metadata": {
  "kernelspec": {
   "display_name": "Python 3 (ipykernel)",
   "language": "python",
   "name": "python3"
  },
  "language_info": {
   "codemirror_mode": {
    "name": "ipython",
    "version": 3
   },
   "file_extension": ".py",
   "mimetype": "text/x-python",
   "name": "python",
   "nbconvert_exporter": "python",
   "pygments_lexer": "ipython3",
   "version": "3.9.13"
  }
 },
 "nbformat": 4,
 "nbformat_minor": 5
}
